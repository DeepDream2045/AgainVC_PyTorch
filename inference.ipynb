{
 "cells": [
  {
   "cell_type": "markdown",
   "metadata": {},
   "source": [
    "# Build inferencer"
   ]
  },
  {
   "cell_type": "code",
   "execution_count": 1,
   "metadata": {},
   "outputs": [
    {
     "name": "stderr",
     "output_type": "stream",
     "text": [
      "Using cache found in /home/anly/.cache/torch/hub/descriptinc_melgan-neurips_master\n"
     ]
    }
   ],
   "source": [
    "from util.parser import get_parser\n",
    "from util.config import Config\n",
    "from util.mytorch import same_seeds\n",
    "from agent.inferencer import Inferencer\n",
    "\n",
    "# load config file\n",
    "config_path = 'config/train_again-c4s.yaml'\n",
    "config = Config(config_path)\n",
    "\n",
    "# hand-crafted argparser\n",
    "dsp_config_path = 'config/preprocess.yaml'\n",
    "dsp_config = Config(dsp_config_path)\n",
    "load = 'checkpoints/again/c4s/steps_100000.pth'\n",
    "args = {\n",
    "    'dsp_config': dsp_config,\n",
    "    'load': load\n",
    "}\n",
    "args = Config(args)\n",
    "\n",
    "# build inferencer\n",
    "inferencer = Inferencer(config=config, args=args)"
   ]
  },
  {
   "cell_type": "markdown",
   "metadata": {},
   "source": [
    "# Source, target\n",
    "`source_path`: Could be a wave file or a directory containing wave files.\\\n",
    "`target_path`: Could be a wave file or a directory containing wave files.\\\n",
    "`out_path`: should be a directory.\\\n",
    "`seglen`: Leave `seglen` to `None` if you want to convert the whole wave file. Otherwise, only `seglen` frames (in mel-spectrogram) would be converted."
   ]
  },
  {
   "cell_type": "code",
   "execution_count": 3,
   "metadata": {},
   "outputs": [],
   "source": [
    "source_path = 'data/wav48/p225/p225_001.wav'\n",
    "target_path = 'data/wav48/p226/p226_001.wav'\n",
    "out_path = 'data/generated/'\n",
    "seglen = None"
   ]
  },
  {
   "cell_type": "markdown",
   "metadata": {},
   "source": [
    "# Inference"
   ]
  },
  {
   "cell_type": "code",
   "execution_count": null,
   "metadata": {},
   "outputs": [],
   "source": [
    "inferencer.inference(source_path=source_path, target_path=target_path, out_path=out_path, seglen=seglen)"
   ]
  }
 ],
 "metadata": {
  "kernelspec": {
   "display_name": "Python 3",
   "language": "python",
   "name": "python3"
  },
  "language_info": {
   "codemirror_mode": {
    "name": "ipython",
    "version": 3
   },
   "file_extension": ".py",
   "mimetype": "text/x-python",
   "name": "python",
   "nbconvert_exporter": "python",
   "pygments_lexer": "ipython3",
   "version": "3.8.2"
  }
 },
 "nbformat": 4,
 "nbformat_minor": 4
}
